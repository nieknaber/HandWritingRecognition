{
 "cells": [
  {
   "cell_type": "code",
   "execution_count": 1,
   "metadata": {
    "tags": []
   },
   "outputs": [
    {
     "name": "stdout",
     "output_type": "stream",
     "text": [
      "(53, 38)\n"
     ]
    }
   ],
   "source": [
    "import time\n",
    "from src.HelperFunctions.helper import *\n",
    "from src.LineSegmentation.lineSegment import *\n",
    "from src.LineSegmentation.lineSegmentAStar import *\n",
    "from src.SlantNormalization.slantNormalize import *\n",
    "from characters import Character_Classification\n",
    "from classifier import Classifier"
   ]
  },
  {
   "cell_type": "code",
   "execution_count": 2,
   "metadata": {
    "tags": []
   },
   "outputs": [
    {
     "name": "stdout",
     "output_type": "stream",
     "text": [
      "Best angle:  1.0\n"
     ]
    }
   ],
   "source": [
    "SAVEPICTURES = True # set to false if you do not want to save pictures in between steps\n",
    "\n",
    "img = getImage(\"images/124-Fg004.pbm\")\n",
    "rotatedImage, slope = findSlope(img, 10, 1)\n",
    "print(\"Best angle: \", slope)"
   ]
  },
  {
   "cell_type": "code",
   "execution_count": 3,
   "metadata": {
    "tags": []
   },
   "outputs": [
    {
     "name": "stdout",
     "output_type": "stream",
     "text": [
      "Running a* for peak  658\n",
      "Running a* for peak  746\n",
      "Running a* for peak  835\n",
      "Running a* for peak  918\n",
      "Running a* for peak  1012\n",
      "Running a* for peak  1082\n",
      "Running a* for peak  1174\n",
      "7\n",
      "0\n",
      "8764.0\n",
      "1\n",
      "10776.0\n",
      "2\n",
      "11866.0\n",
      "3\n",
      "11179.0\n",
      "4\n",
      "16668.0\n",
      "5\n",
      "14814.0\n",
      "6\n",
      "10749.0\n",
      "7\n",
      "7809.0\n",
      "segmenting lines\n",
      "saving picture  0\n",
      "saving picture  1\n",
      "saving picture  2\n",
      "saving picture  3\n",
      "saving picture  4\n",
      "saving picture  5\n",
      "saving picture  6\n",
      "saving picture  7\n"
     ]
    }
   ],
   "source": [
    "images = lineSegmentAStar(rotatedImage)\n",
    "print(\"segmenting lines\")\n",
    "for i in range(0,len(images)):\n",
    "    images[i] = np.transpose(images[i])\n",
    "    if SAVEPICTURES: cv.imwrite(\"line_\" + str(i) + \".bmp\", (1 - images[i]) * 255)\n",
    "    if SAVEPICTURES: print(\"saving picture \", i)"
   ]
  },
  {
   "cell_type": "code",
   "execution_count": 4,
   "metadata": {
    "tags": []
   },
   "outputs": [],
   "source": [
    "# print(\"doing slant normalization\")\n",
    "# slantAngles = []\n",
    "# for i in range(0,len(images)):\n",
    "#     slantAngle, dst = slantNormalize(images[i])\n",
    "#     if SAVEPICTURES: cv.imwrite(\"line_\" + str(i) + \"_deslanted.bmp\", (1 - dst) * 255)\n",
    "#     images[i] = dst\n",
    "#     slantAngles.append(slantAngle)"
   ]
  },
  {
   "cell_type": "code",
   "execution_count": null,
   "metadata": {
    "tags": []
   },
   "outputs": [],
   "source": [
    "print(\"doing character classification and segmentation\")\n",
    "print(\"len \", len(images))\n",
    "segment_size = (30,30)\n",
    "window_size = (30*6, 30*3)\n",
    "model_path = './trained_models/model_dimension3_500_epochs.pt'\n",
    "cc = Character_Classification(segment_size, window_size, model_path)\n",
    "imgs = []\n",
    "labels = []\n",
    "cnt = 0\n",
    "for image in images[1:]:\n",
    "    print(cnt)\n",
    "    cnt +=1\n",
    "    img, lab = cc.run_classification(image)\n",
    "    imgs.extend(img)\n",
    "    labels.extend(lab)"
   ]
  },
  {
   "cell_type": "code",
   "execution_count": null,
   "metadata": {
    "tags": []
   },
   "outputs": [],
   "source": [
    "print(len(imgs))\n",
    "print(len(labels))\n",
    "\n",
    "print(imgs[3].shape)\n",
    "# cv.imshow(\"Window\",images[4])"
   ]
  },
  {
   "cell_type": "code",
   "execution_count": null,
   "metadata": {
    "tags": []
   },
   "outputs": [],
   "source": [
    "newLabels = [label.capitalize() for label in labels]\n",
    "newImgs = [img.astype(np.uint8) for img in imgs]\n",
    "print(\"doint style classification\")\n",
    "styleClassifier = Classifier(\"char_num_acc_lda_k3.txt\", 3)\n",
    "style = styleClassifier.classifyList(newImgs, newLabels)\n",
    "print(style)\n",
    "print(labels[1])\n"
   ]
  },
  {
   "cell_type": "code",
   "execution_count": null,
   "metadata": {},
   "outputs": [],
   "source": []
  }
 ],
 "metadata": {
  "kernelspec": {
   "display_name": "Python 3",
   "language": "python",
   "name": "python3"
  },
  "language_info": {
   "codemirror_mode": {
    "name": "ipython",
    "version": 3
   },
   "file_extension": ".py",
   "mimetype": "text/x-python",
   "name": "python",
   "nbconvert_exporter": "python",
   "pygments_lexer": "ipython3",
   "version": "3.7.3"
  }
 },
 "nbformat": 4,
 "nbformat_minor": 2
}
